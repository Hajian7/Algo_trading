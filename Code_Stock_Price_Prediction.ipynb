{
  "nbformat": 4,
  "nbformat_minor": 0,
  "metadata": {
    "colab": {
      "provenance": []
    },
    "kernelspec": {
      "name": "python3",
      "display_name": "Python 3"
    },
    "language_info": {
      "name": "python"
    }
  },
  "cells": [
    {
      "cell_type": "code",
      "execution_count": null,
      "metadata": {
        "id": "j9lvCn8tmWo7"
      },
      "outputs": [],
      "source": [
        "!pip install yfinance\n",
        "!pip install prophet\n",
        "!pip install pystan\n",
        "\n",
        "# Import necessary libraries\n",
        "from prophet import Prophet\n",
        "import pandas as pd\n",
        "import yfinance as yf\n",
        "import matplotlib.pyplot as plt\n",
        "from prophet.diagnostics import performance_metrics, cross_validation\n",
        "from prophet.plot import plot_plotly, plot_components_plotly\n",
        "\n",
        "\n",
        "# Download SPX ticker data\n",
        "ticker=\"^SPX\"\n",
        "data = yf.download(ticker, start=\"2003-10-01\", end=\"2023-10-01\")\n",
        "\n",
        "# Prepare the data for Prophet model\n",
        "df = pd.DataFrame()\n",
        "df[\"ds\"] = data.index\n",
        "df[\"y\"] = data[\"Adj Close\"].values\n",
        "df.dropna(inplace=True)\n",
        "\n",
        "# Create and train Prophet model\n",
        "model = Prophet(\n",
        "    seasonality_mode=\"multiplicative\",\n",
        "    changepoint_prior_scale=0.01,\n",
        "    seasonality_prior_scale=0.01,\n",
        "    n_changepoints=500,\n",
        "    yearly_seasonality=True,\n",
        "    weekly_seasonality=True,\n",
        "    daily_seasonality=True,\n",
        "    growth=\"linear\",\n",
        "    holidays=None,\n",
        "    ).add_seasonality(\n",
        "        name='monthly',\n",
        "        period=30.5,\n",
        "        fourier_order=10\n",
        "    )\n",
        "\n",
        "\n",
        "# Fit the model to the data\n",
        "model.fit(df)\n",
        "\n",
        "# Create a dataframe for making future predictions\n",
        "future = model.make_future_dataframe(periods=5)  # Extend the time frame by 5 days\n",
        "\n",
        "# Predict future values\n",
        "forecast = model.predict(future)\n",
        "\n",
        "\n",
        "# Plot the forecast\n",
        "fig = model.plot(forecast)\n",
        "plt.title(\"S&P 500 Index Forecast\")\n",
        "plt.xlabel(\"Date\")\n",
        "plt.ylabel(\"Value\")\n",
        "fig.gca().get_lines()[0].set_color(\"blue\")  # Actual data (blue)\n",
        "fig.gca().get_lines()[1].set_color(\"orange\")  # Forecasted data (orange)\n",
        "plt.legend([\"Actual Data\", \"Forecasted Data\"], loc=\"upper left\")\n",
        "plt.show()\n",
        "\n",
        "# Access prediction components (trend, seasonality, holidays)\n",
        "forecast_components = model.plot_components(forecast)\n",
        "plt.suptitle(\"Forecast Components\")\n",
        "plt.subplots_adjust(top=0.9)  # Adjust the top margin for the title\n",
        "plt.show()\n",
        "\n",
        "# Calculate and display performance metrics (e.g., RMSE, MAE)\n",
        "df_cv = cross_validation(model, horizon='5 days', period='365 days', initial='3650 days')\n",
        "performance = performance_metrics(df_cv)\n",
        "\n",
        "# Create a bar plot for performance metrics\n",
        "performance.plot(x='horizon', y='mape', kind='bar', color='b', legend=False)\n",
        "plt.title(\"Performance Metrics\")\n",
        "plt.xlabel(\"Forecast Horizon\")\n",
        "plt.ylabel(\"Mean Absolute Percentage Error (MAPE)\")\n",
        "plt.show()\n",
        "\n",
        "print(performance)"
      ]
    },
    {
      "cell_type": "code",
      "source": [],
      "metadata": {
        "id": "cLGN8nSsNZV9"
      },
      "execution_count": null,
      "outputs": []
    }
  ]
}